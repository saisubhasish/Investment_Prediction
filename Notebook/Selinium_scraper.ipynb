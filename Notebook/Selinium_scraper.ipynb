{
 "cells": [
  {
   "cell_type": "code",
   "execution_count": 1,
   "id": "ab496891",
   "metadata": {},
   "outputs": [
    {
     "data": {
      "text/plain": [
       "'C:\\\\Users\\\\Sai'"
      ]
     },
     "execution_count": 1,
     "metadata": {},
     "output_type": "execute_result"
    }
   ],
   "source": [
    "pwd"
   ]
  },
  {
   "cell_type": "code",
   "execution_count": 2,
   "id": "c6b0ee97",
   "metadata": {},
   "outputs": [],
   "source": [
    "import os\n",
    "\n",
    "os.chdir(\"D:/FSDS-iNeuron/10.Projects-DS/Investment_Prediction/Dataset\")"
   ]
  },
  {
   "cell_type": "code",
   "execution_count": 3,
   "id": "924e72c5",
   "metadata": {},
   "outputs": [
    {
     "data": {
      "text/plain": [
       "'D:\\\\FSDS-iNeuron\\\\10.Projects-DS\\\\Investment_Prediction\\\\Dataset'"
      ]
     },
     "execution_count": 3,
     "metadata": {},
     "output_type": "execute_result"
    }
   ],
   "source": [
    "pwd"
   ]
  },
  {
   "cell_type": "code",
   "execution_count": 6,
   "id": "2f0a3006",
   "metadata": {},
   "outputs": [
    {
     "name": "stderr",
     "output_type": "stream",
     "text": [
      "C:\\Users\\Sai\\AppData\\Local\\Temp\\ipykernel_11164\\4123242796.py:27: DeprecationWarning: executable_path has been deprecated, please pass in a Service object\n",
      "  driver = webdriver.Chrome(cd_path)\n"
     ]
    },
    {
     "name": "stdout",
     "output_type": "stream",
     "text": [
      "Total tables: 4\n",
      "              Date    Price     Open     High      Low Volume    Chg%\n",
      "0     Mar 17, 2023  3179.30  3150.50  3221.40  3144.00  6.74M  -0.18%\n",
      "1     Mar 16, 2023  3185.00  3208.00  3219.80  3172.00  1.90M  -0.43%\n",
      "2     Mar 15, 2023  3198.90  3250.00  3260.35  3192.00  1.78M  -0.50%\n",
      "3     Mar 14, 2023  3214.95  3280.00  3304.40  3209.40  2.67M  -2.04%\n",
      "4     Mar 13, 2023  3281.95  3333.00  3369.80  3272.00  1.90M  -1.47%\n",
      "...            ...      ...      ...      ...      ...    ...     ...\n",
      "1727  Mar 29, 2016  1210.57  1214.78  1219.17  1203.51  1.84M  -0.16%\n",
      "1728  Mar 28, 2016  1212.53  1221.15  1233.97  1206.72  3.32M  -0.02%\n",
      "1729  Mar 23, 2016  1212.72  1219.63  1219.63  1204.63  2.28M   0.03%\n",
      "1730  Mar 22, 2016  1212.38  1197.13  1218.21  1194.44  1.95M   1.10%\n",
      "1731  Mar 21, 2016  1199.22  1189.29  1203.48  1186.35  2.34M   0.84%\n",
      "\n",
      "[1732 rows x 7 columns]\n"
     ]
    }
   ],
   "source": [
    "import pandas as pd\n",
    "from selenium import webdriver\n",
    "from bs4 import BeautifulSoup\n",
    "from datetime import datetime\n",
    "import time\n",
    "\n",
    "class data_scraper:\n",
    "    \n",
    "    def __init__(self):\n",
    "        pass\n",
    "    \n",
    "    def scraper(self, company, start_date, end_date, cd_path):\n",
    "\n",
    "        # Step 1: Create a session and load the page\n",
    "        #start_dt = datetime.strptime(start_date, '%Y-%m-%d')\n",
    "        #end_dt = datetime.strptime(end_date, '%Y-%m-%d')\n",
    "        '''\n",
    "        To automate the process of changing start date and end date in the code, \n",
    "        We can create a function that takes start date and end date as input parameters and formats them as Unix timestamps. \n",
    "        We can then construct the URL with the formatted timestamps as query parameters.\n",
    "        '''\n",
    "        start_timestamp = int(time.mktime(time.strptime(start_date, '%Y-%m-%d')))\n",
    "        end_timestamp = int(time.mktime(time.strptime(end_date, '%Y-%m-%d')))\n",
    "\n",
    "        url = f'https://in.investing.com/equities/{company}-historical-data?end_date={end_timestamp}&st_date={start_timestamp}'\n",
    "        \n",
    "        driver = webdriver.Chrome(cd_path)\n",
    "        driver.get(url)\n",
    "        driver.implicitly_wait(5)\n",
    "        \n",
    "        \n",
    "        driver.maximize_window()\n",
    "        driver.implicitly_wait(2) \n",
    "        \n",
    "        driver.execute_script(\"window.scrollBy(0,500)\",\"\")\n",
    "        time.sleep(3)\n",
    "        \n",
    "        driver.execute_script(\"window.scrollBy(0,2000)\",\"\")\n",
    "        time.sleep(3)\n",
    "        \n",
    "        driver.execute_script(\"window.scrollBy(0,5000)\",\"\")\n",
    "        time.sleep(3)\n",
    "        \n",
    "        driver.execute_script(\"window.scrollBy(0,5000)\",\"\")\n",
    "        time.sleep(3)\n",
    "        \n",
    "        driver.execute_script(\"window.scrollTo(0,document.body.scrollHeight)\")\n",
    "        \n",
    "        driver.execute_script(\"window.scrollBy(0,-2000)\",\"\")\n",
    "        time.sleep(5)\n",
    "\n",
    "        # Step 2: Close the pop-up if it appears\n",
    "\n",
    "        try:\n",
    "            maybe_later_button = driver.find_element_by_xpath(\"//button[contains(text(),'Maybe later')]\")\n",
    "            maybe_later_button.click()\n",
    "        except:\n",
    "            pass\n",
    "\n",
    "\n",
    "        # Step 3: Parse HTML code and grab tables with Beautiful Soup\n",
    "        soup = BeautifulSoup(driver.page_source, 'lxml')\n",
    "\n",
    "        tables = soup.find_all('table')\n",
    "\n",
    "        # Step 4: Read tables with Pandas read_html()\n",
    "        dfs = pd.read_html(str(tables))\n",
    "\n",
    "        print(f'Total tables: {len(dfs)}')\n",
    "        print(dfs[0])\n",
    "\n",
    "        driver.close()\n",
    "        dfs[0].to_csv(f'{company}.csv')\n",
    "\n",
    "# example usage\n",
    "scraper = data_scraper()\n",
    "scraper.scraper('tata-consultancy-services', '2016-03-19', '2023-03-19', r\"D:\\FSDS-iNeuron\\10.Projects-DS\\Investment_Prediction\\Selenium\\chromedriver.exe\")\n",
    "\n",
    "\n",
    "#britannia-industries --> Britannia Inductries\n",
    "#itc --> ITC\n",
    "#tata-motors-ltd --> TATA Motors\n",
    "#reliance-industries --> Reliance Industries"
   ]
  },
  {
   "cell_type": "code",
   "execution_count": null,
   "id": "81e61866",
   "metadata": {},
   "outputs": [],
   "source": []
  }
 ],
 "metadata": {
  "kernelspec": {
   "display_name": "Python 3 (ipykernel)",
   "language": "python",
   "name": "python3"
  },
  "language_info": {
   "codemirror_mode": {
    "name": "ipython",
    "version": 3
   },
   "file_extension": ".py",
   "mimetype": "text/x-python",
   "name": "python",
   "nbconvert_exporter": "python",
   "pygments_lexer": "ipython3",
   "version": "3.9.13"
  }
 },
 "nbformat": 4,
 "nbformat_minor": 5
}
